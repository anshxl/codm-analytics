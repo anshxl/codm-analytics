{
 "cells": [
  {
   "cell_type": "code",
   "execution_count": 1,
   "metadata": {},
   "outputs": [],
   "source": [
    "import pandas as pd\n",
    "import numpy as np"
   ]
  },
  {
   "cell_type": "code",
   "execution_count": 12,
   "metadata": {},
   "outputs": [
    {
     "data": {
      "text/html": [
       "<div>\n",
       "<style scoped>\n",
       "    .dataframe tbody tr th:only-of-type {\n",
       "        vertical-align: middle;\n",
       "    }\n",
       "\n",
       "    .dataframe tbody tr th {\n",
       "        vertical-align: top;\n",
       "    }\n",
       "\n",
       "    .dataframe thead th {\n",
       "        text-align: right;\n",
       "    }\n",
       "</style>\n",
       "<table border=\"1\" class=\"dataframe\">\n",
       "  <thead>\n",
       "    <tr style=\"text-align: right;\">\n",
       "      <th></th>\n",
       "      <th>Map</th>\n",
       "      <th>Hill</th>\n",
       "      <th>Team</th>\n",
       "      <th>Points</th>\n",
       "    </tr>\n",
       "  </thead>\n",
       "  <tbody>\n",
       "    <tr>\n",
       "      <th>17</th>\n",
       "      <td>Combine</td>\n",
       "      <td>P1</td>\n",
       "      <td>DVS</td>\n",
       "      <td>21.0</td>\n",
       "    </tr>\n",
       "    <tr>\n",
       "      <th>18</th>\n",
       "      <td>Combine</td>\n",
       "      <td>P2</td>\n",
       "      <td>DVS</td>\n",
       "      <td>33.0</td>\n",
       "    </tr>\n",
       "    <tr>\n",
       "      <th>19</th>\n",
       "      <td>Combine</td>\n",
       "      <td>P3</td>\n",
       "      <td>DVS</td>\n",
       "      <td>33.0</td>\n",
       "    </tr>\n",
       "    <tr>\n",
       "      <th>20</th>\n",
       "      <td>Combine</td>\n",
       "      <td>P4</td>\n",
       "      <td>DVS</td>\n",
       "      <td>24.0</td>\n",
       "    </tr>\n",
       "    <tr>\n",
       "      <th>21</th>\n",
       "      <td>Combine</td>\n",
       "      <td>P1</td>\n",
       "      <td>DVS</td>\n",
       "      <td>12.0</td>\n",
       "    </tr>\n",
       "  </tbody>\n",
       "</table>\n",
       "</div>"
      ],
      "text/plain": [
       "        Map Hill Team  Points\n",
       "17  Combine   P1  DVS    21.0\n",
       "18  Combine   P2  DVS    33.0\n",
       "19  Combine   P3  DVS    33.0\n",
       "20  Combine   P4  DVS    24.0\n",
       "21  Combine   P1  DVS    12.0"
      ]
     },
     "execution_count": 12,
     "metadata": {},
     "output_type": "execute_result"
    }
   ],
   "source": [
    "# Load the data\n",
    "df = pd.read_excel('DVS-HP.xlsx')\n",
    "\n",
    "# Filter for Combine Map\n",
    "df = df[df['Map'] == 'Combine']\n",
    "\n",
    "# Parse Score into numeric columns\n",
    "df[['Score1', 'Score2']] = df['Score'].str.split('-', expand=True).astype(int)\n",
    "\n",
    "# Compute points per hill for each team\n",
    "df['Points1'] = df.groupby(['Map','Team1','Team2'])['Score1'].diff().fillna(df['Score1'])\n",
    "df['Points2'] = df.groupby(['Map','Team1','Team2'])['Score2'].diff().fillna(df['Score2'])\n",
    "\n",
    "# Prepare long format for points\n",
    "long_pts = pd.concat([\n",
    "    df[['Map','Hill','Team1','Points1']].rename(columns={'Team1':'Team','Points1':'Points'}),\n",
    "    df[['Map','Hill','Team2','Points2']].rename(columns={'Team2':'Team','Points2':'Points'})\n",
    "])\n",
    "\n",
    "# Filter only for DVS and XLR8 teams\n",
    "long_pts = long_pts[(long_pts['Team'] == 'DVS') | (long_pts['Team'] == 'XLR8')]\n",
    "long_pts.head()"
   ]
  },
  {
   "cell_type": "code",
   "execution_count": 24,
   "metadata": {},
   "outputs": [],
   "source": [
    "# List of all teams\n",
    "teams = sorted(long_pts['Team'].unique())\n",
    "\n",
    "# Team-level stats\n",
    "team_stats = []\n",
    "\n",
    "for team in teams:\n",
    "    played = df[(df['Team1']==team) | (df['Team2']==team)]\n",
    "    # Rotation-win %\n",
    "    rf = played[played['RotateFirst']==team]\n",
    "    rot_rate = (rf['RotationWin']=='Yes').mean() * 100 if not rf.empty else np.nan\n",
    "    # Break-success %\n",
    "    opp = played[played['RotateFirst']!=team]\n",
    "    breaks = played[(played['BreakTeam']==team) & (played['BreakSuccess']=='Yes')]\n",
    "    break_rate = len(breaks) / len(opp) * 100 if len(opp)>0 else np.nan\n",
    "    # Avg durations\n",
    "    avg_hold = rf['HoldDuration'].mean()\n",
    "    avg_break_hold = played[played['BreakTeam']==team]['BreakDuration'].mean()\n",
    "    # Scrap points\n",
    "    scrap_pts = df[df['ScrapTeam']==team]['ScrapTime'].sum()\n",
    "    # Most dominant hill\n",
    "    team_hill_avg = long_pts[long_pts['Team']==team].groupby('Hill')['Points'].mean()\n",
    "    dominant_hill = team_hill_avg.idxmax()\n",
    "    dominant_avg_pts = team_hill_avg.max()\n",
    "    # Weakest hill\n",
    "    weakest_hill = team_hill_avg.idxmin()\n",
    "    weakest_avg_pts = team_hill_avg.min()\n",
    "    team_stats.append({\n",
    "        'Team': team,\n",
    "        'RotationWin': rot_rate,\n",
    "        'BreakSuccess': break_rate,\n",
    "        'AvgHoldDuration (s)': avg_hold,\n",
    "        'AvgBreakDuration (s)': avg_break_hold,\n",
    "        'ScrapPoints': scrap_pts,\n",
    "        'DominantHill': dominant_hill,\n",
    "        'DominantAvgPoints': dominant_avg_pts,\n",
    "        'WeakestHill': weakest_hill,\n",
    "        'WeakestAvgPoints': weakest_avg_pts\n",
    "    })\n",
    "\n",
    "team_stats_df = pd.DataFrame(team_stats).set_index('Team')"
   ]
  },
  {
   "cell_type": "code",
   "execution_count": 25,
   "metadata": {},
   "outputs": [],
   "source": [
    "team_stats_df.to_csv('team_stats.csv')"
   ]
  },
  {
   "cell_type": "code",
   "execution_count": 23,
   "metadata": {},
   "outputs": [],
   "source": [
    "# Get average points per hill for each team\n",
    "hill_avg = long_pts.groupby(['Hill', 'Team'])['Points'].mean().reset_index()\n",
    "hill_avg = hill_avg.rename(columns={'Points': 'AvgPoints'})\n",
    "hill_avg = hill_avg.pivot(index='Hill', columns='Team', values='AvgPoints').fillna(0)\n",
    "hill_avg = hill_avg.reset_index()\n",
    "hill_avg = hill_avg.rename_axis(None, axis=1)\n",
    "hill_avg = hill_avg.sort_values(by='Hill')\n",
    "hill_avg = hill_avg.round(2)\n",
    "hill_avg.to_csv('hill_avg_points.csv', index=False)"
   ]
  },
  {
   "cell_type": "code",
   "execution_count": null,
   "metadata": {},
   "outputs": [],
   "source": []
  }
 ],
 "metadata": {
  "kernelspec": {
   "display_name": "base",
   "language": "python",
   "name": "python3"
  },
  "language_info": {
   "codemirror_mode": {
    "name": "ipython",
    "version": 3
   },
   "file_extension": ".py",
   "mimetype": "text/x-python",
   "name": "python",
   "nbconvert_exporter": "python",
   "pygments_lexer": "ipython3",
   "version": "3.11.5"
  }
 },
 "nbformat": 4,
 "nbformat_minor": 2
}
