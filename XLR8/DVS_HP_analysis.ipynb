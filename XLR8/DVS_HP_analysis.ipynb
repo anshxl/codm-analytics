{
 "cells": [
  {
   "cell_type": "markdown",
   "id": "4cec0938",
   "metadata": {},
   "source": [
    "# DVS Hardpoint Analysis\n",
    "\n",
    "This notebook computes several performance metrics for team **DVS** across their recorded Hardpoint maps."
   ]
  },
  {
   "cell_type": "code",
   "execution_count": 1,
   "id": "8426022c",
   "metadata": {
    "execution": {
     "iopub.execute_input": "2025-08-04T20:17:41.912236Z",
     "iopub.status.busy": "2025-08-04T20:17:41.911759Z",
     "iopub.status.idle": "2025-08-04T20:17:43.183495Z",
     "shell.execute_reply": "2025-08-04T20:17:43.182352Z"
    }
   },
   "outputs": [
    {
     "data": {
      "text/html": [
       "<div>\n",
       "<style scoped>\n",
       "    .dataframe tbody tr th:only-of-type {\n",
       "        vertical-align: middle;\n",
       "    }\n",
       "\n",
       "    .dataframe tbody tr th {\n",
       "        vertical-align: top;\n",
       "    }\n",
       "\n",
       "    .dataframe thead th {\n",
       "        text-align: right;\n",
       "    }\n",
       "</style>\n",
       "<table border=\"1\" class=\"dataframe\">\n",
       "  <thead>\n",
       "    <tr style=\"text-align: right;\">\n",
       "      <th></th>\n",
       "      <th>Map</th>\n",
       "      <th>Team1</th>\n",
       "      <th>Team2</th>\n",
       "      <th>Hill</th>\n",
       "      <th>RotateFirst</th>\n",
       "      <th>RotationWin</th>\n",
       "      <th>HoldDuration</th>\n",
       "      <th>BreakTeam</th>\n",
       "      <th>BreakSuccess</th>\n",
       "      <th>BreakDuration</th>\n",
       "      <th>ContestTime</th>\n",
       "      <th>ScrapTeam</th>\n",
       "      <th>ScrapTime</th>\n",
       "      <th>Score</th>\n",
       "      <th>DVS_Score</th>\n",
       "      <th>PointsScored</th>\n",
       "    </tr>\n",
       "  </thead>\n",
       "  <tbody>\n",
       "    <tr>\n",
       "      <th>0</th>\n",
       "      <td>Slums</td>\n",
       "      <td>DVS</td>\n",
       "      <td>WL</td>\n",
       "      <td>P1</td>\n",
       "      <td>DVS</td>\n",
       "      <td>No</td>\n",
       "      <td>10</td>\n",
       "      <td>WL</td>\n",
       "      <td>No</td>\n",
       "      <td>3</td>\n",
       "      <td>2</td>\n",
       "      <td>Split</td>\n",
       "      <td>0</td>\n",
       "      <td>39-9</td>\n",
       "      <td>39</td>\n",
       "      <td>39</td>\n",
       "    </tr>\n",
       "    <tr>\n",
       "      <th>1</th>\n",
       "      <td>Slums</td>\n",
       "      <td>DVS</td>\n",
       "      <td>WL</td>\n",
       "      <td>P2</td>\n",
       "      <td>DVS</td>\n",
       "      <td>Yes</td>\n",
       "      <td>37</td>\n",
       "      <td>WL</td>\n",
       "      <td>No</td>\n",
       "      <td>4</td>\n",
       "      <td>2</td>\n",
       "      <td>DVS</td>\n",
       "      <td>10</td>\n",
       "      <td>85-13</td>\n",
       "      <td>85</td>\n",
       "      <td>46</td>\n",
       "    </tr>\n",
       "    <tr>\n",
       "      <th>2</th>\n",
       "      <td>Slums</td>\n",
       "      <td>DVS</td>\n",
       "      <td>WL</td>\n",
       "      <td>P3</td>\n",
       "      <td>WL</td>\n",
       "      <td>No</td>\n",
       "      <td>10</td>\n",
       "      <td>DVS</td>\n",
       "      <td>Yes</td>\n",
       "      <td>15</td>\n",
       "      <td>2</td>\n",
       "      <td>DVS</td>\n",
       "      <td>10</td>\n",
       "      <td>120-33</td>\n",
       "      <td>120</td>\n",
       "      <td>35</td>\n",
       "    </tr>\n",
       "    <tr>\n",
       "      <th>3</th>\n",
       "      <td>Slums</td>\n",
       "      <td>DVS</td>\n",
       "      <td>WL</td>\n",
       "      <td>P4</td>\n",
       "      <td>WL</td>\n",
       "      <td>No</td>\n",
       "      <td>2</td>\n",
       "      <td>DVS</td>\n",
       "      <td>Yes</td>\n",
       "      <td>57</td>\n",
       "      <td>2</td>\n",
       "      <td>DVS</td>\n",
       "      <td>8</td>\n",
       "      <td>175-36</td>\n",
       "      <td>175</td>\n",
       "      <td>55</td>\n",
       "    </tr>\n",
       "    <tr>\n",
       "      <th>4</th>\n",
       "      <td>Slums</td>\n",
       "      <td>DVS</td>\n",
       "      <td>WL</td>\n",
       "      <td>P1</td>\n",
       "      <td>DVS</td>\n",
       "      <td>Yes</td>\n",
       "      <td>30</td>\n",
       "      <td>WL</td>\n",
       "      <td>Yes</td>\n",
       "      <td>25</td>\n",
       "      <td>2</td>\n",
       "      <td>WL</td>\n",
       "      <td>10</td>\n",
       "      <td>198-61</td>\n",
       "      <td>198</td>\n",
       "      <td>23</td>\n",
       "    </tr>\n",
       "  </tbody>\n",
       "</table>\n",
       "</div>"
      ],
      "text/plain": [
       "     Map Team1 Team2 Hill RotateFirst RotationWin  HoldDuration BreakTeam  \\\n",
       "0  Slums   DVS    WL   P1         DVS          No            10        WL   \n",
       "1  Slums   DVS    WL   P2         DVS         Yes            37        WL   \n",
       "2  Slums   DVS    WL   P3          WL          No            10       DVS   \n",
       "3  Slums   DVS    WL   P4          WL          No             2       DVS   \n",
       "4  Slums   DVS    WL   P1         DVS         Yes            30        WL   \n",
       "\n",
       "  BreakSuccess  BreakDuration  ContestTime ScrapTeam  ScrapTime   Score  \\\n",
       "0           No              3            2     Split          0    39-9   \n",
       "1           No              4            2       DVS         10   85-13   \n",
       "2          Yes             15            2       DVS         10  120-33   \n",
       "3          Yes             57            2       DVS          8  175-36   \n",
       "4          Yes             25            2        WL         10  198-61   \n",
       "\n",
       "   DVS_Score  PointsScored  \n",
       "0         39            39  \n",
       "1         85            46  \n",
       "2        120            35  \n",
       "3        175            55  \n",
       "4        198            23  "
      ]
     },
     "execution_count": 1,
     "metadata": {},
     "output_type": "execute_result"
    }
   ],
   "source": [
    "\n",
    "import pandas as pd\n",
    "import re\n",
    "\n",
    "# Load dataset\n",
    "df = pd.read_excel('DVS-HP.xlsx')\n",
    "\n",
    "# Create numeric score column for DVS based on left side of 'Score'\n",
    "def extract_dvs_score(row):\n",
    "    left, right = map(int, row['Score'].split('-'))\n",
    "    return left if row['Team1'] == 'DVS' else right\n",
    "\n",
    "df['DVS_Score'] = df.apply(extract_dvs_score, axis=1)\n",
    "\n",
    "# Apply differencing to the DVS_Score column, except for the first row\n",
    "df['PointsScored'] = (\n",
    "    df\n",
    "    .groupby(['Map','Team2'])['DVS_Score']\n",
    "    .diff()\n",
    "    .fillna(df['DVS_Score'])                        # first row of each hill → 0 points\n",
    "    .astype(int)\n",
    ")\n",
    "\n",
    "df.head()\n"
   ]
  },
  {
   "cell_type": "markdown",
   "id": "8111e8df",
   "metadata": {},
   "source": [
    "## 1. Points scored per hill on each map"
   ]
  },
  {
   "cell_type": "code",
   "execution_count": 2,
   "id": "e4dbf019",
   "metadata": {
    "execution": {
     "iopub.execute_input": "2025-08-04T20:17:43.189096Z",
     "iopub.status.busy": "2025-08-04T20:17:43.188311Z",
     "iopub.status.idle": "2025-08-04T20:17:43.203003Z",
     "shell.execute_reply": "2025-08-04T20:17:43.201817Z"
    }
   },
   "outputs": [],
   "source": [
    "# Compute the average DVS points per hill per map\n",
    "avg_points_per_hill = (\n",
    "    df\n",
    "    .groupby(['Map', 'Hill'])['PointsScored']\n",
    "    .mean()                  # average instead of sum\n",
    "    .round(2)                # round to 2 decimal places\n",
    "    .reset_index()\n",
    "    .pivot(index='Map', columns='Hill', values='PointsScored')\n",
    ")\n",
    "\n",
    "# Flatten the column index for easier manipulation\n",
    "avg_points_per_hill.columns.name = None\n",
    "avg_points_per_hill = avg_points_per_hill.reset_index()\n",
    "\n",
    "avg_points_per_hill.to_csv('avg_points_per_hill.csv', index=False)\n"
   ]
  },
  {
   "cell_type": "markdown",
   "id": "74fdd2ff",
   "metadata": {},
   "source": [
    "## 2. Rotation counts and wins"
   ]
  },
  {
   "cell_type": "code",
   "execution_count": 3,
   "id": "b4dd6ff0",
   "metadata": {
    "execution": {
     "iopub.execute_input": "2025-08-04T20:17:43.208491Z",
     "iopub.status.busy": "2025-08-04T20:17:43.207933Z",
     "iopub.status.idle": "2025-08-04T20:17:43.230351Z",
     "shell.execute_reply": "2025-08-04T20:17:43.229075Z"
    }
   },
   "outputs": [
    {
     "data": {
      "text/html": [
       "<div>\n",
       "<style scoped>\n",
       "    .dataframe tbody tr th:only-of-type {\n",
       "        vertical-align: middle;\n",
       "    }\n",
       "\n",
       "    .dataframe tbody tr th {\n",
       "        vertical-align: top;\n",
       "    }\n",
       "\n",
       "    .dataframe thead th {\n",
       "        text-align: right;\n",
       "    }\n",
       "</style>\n",
       "<table border=\"1\" class=\"dataframe\">\n",
       "  <thead>\n",
       "    <tr style=\"text-align: right;\">\n",
       "      <th></th>\n",
       "      <th>RotatedFirst</th>\n",
       "      <th>RotationWins</th>\n",
       "    </tr>\n",
       "    <tr>\n",
       "      <th>Map</th>\n",
       "      <th></th>\n",
       "      <th></th>\n",
       "    </tr>\n",
       "  </thead>\n",
       "  <tbody>\n",
       "    <tr>\n",
       "      <th>Combine</th>\n",
       "      <td>6</td>\n",
       "      <td>2</td>\n",
       "    </tr>\n",
       "    <tr>\n",
       "      <th>Hacienda</th>\n",
       "      <td>7</td>\n",
       "      <td>6</td>\n",
       "    </tr>\n",
       "    <tr>\n",
       "      <th>Slums</th>\n",
       "      <td>9</td>\n",
       "      <td>5</td>\n",
       "    </tr>\n",
       "  </tbody>\n",
       "</table>\n",
       "</div>"
      ],
      "text/plain": [
       "          RotatedFirst  RotationWins\n",
       "Map                                 \n",
       "Combine              6             2\n",
       "Hacienda             7             6\n",
       "Slums                9             5"
      ]
     },
     "execution_count": 3,
     "metadata": {},
     "output_type": "execute_result"
    }
   ],
   "source": [
    "\n",
    "# Flag where DVS rotates first\n",
    "df['DVS_RotatesFirst'] = df['RotateFirst'] == 'DVS'\n",
    "# Flag rotation wins for DVS\n",
    "df['DVS_RotationWin'] = (df['DVS_RotatesFirst']) & (df['RotationWin'] == 'Yes')\n",
    "\n",
    "rot_summary_map = df.groupby('Map').agg(\n",
    "    RotatedFirst=('DVS_RotatesFirst','sum'),\n",
    "    RotationWins=('DVS_RotationWin','sum')\n",
    ")\n",
    "rot_summary_map\n",
    "\n"
   ]
  },
  {
   "cell_type": "code",
   "execution_count": 16,
   "id": "cc4c8810",
   "metadata": {
    "execution": {
     "iopub.execute_input": "2025-08-04T20:17:43.235631Z",
     "iopub.status.busy": "2025-08-04T20:17:43.235137Z",
     "iopub.status.idle": "2025-08-04T20:17:43.262474Z",
     "shell.execute_reply": "2025-08-04T20:17:43.261180Z"
    }
   },
   "outputs": [],
   "source": [
    "\n",
    "import numpy as np\n",
    "\n",
    "# 1) Compute totals & percentages per Map/Hill\n",
    "rot_stats = (\n",
    "    df\n",
    "    .groupby(['Map','Hill'])\n",
    "    .agg(\n",
    "        TotalRounds=('DVS_RotatesFirst','count'),\n",
    "        RotatedFirst=('DVS_RotatesFirst','sum'),\n",
    "        RotationWins=('DVS_RotationWin','sum'),\n",
    "    )\n",
    ")\n",
    "\n",
    "# 2) Calculate percentages\n",
    "rot_stats['RotatePct'] = rot_stats['RotatedFirst'] / rot_stats['TotalRounds'] * 100\n",
    "rot_stats['WinPct']    = np.where(\n",
    "    rot_stats['RotatedFirst'] > 0,\n",
    "    rot_stats['RotationWins'] / rot_stats['RotatedFirst'] * 100,\n",
    "    0\n",
    ")\n",
    "\n",
    "# 3) Pivot into two clean tables\n",
    "rotate_pct_table = (\n",
    "    rot_stats['RotatePct']\n",
    "    .unstack(fill_value=0)\n",
    "    .round(1)\n",
    ")\n",
    "rotation_win_pct_table = (\n",
    "    rot_stats['WinPct']\n",
    "    .unstack(fill_value=0)\n",
    "    .round(1)\n",
    ")\n",
    "\n",
    "# 4) (Optional) Rename columns so they’re self-describing\n",
    "rotate_pct_table.columns = [f\"{hill}_RotatePct\" for hill in rotate_pct_table.columns]\n",
    "rotation_win_pct_table.columns = [f\"{hill}_WinPct\" for hill in rotation_win_pct_table.columns]\n",
    "\n",
    "# 5) Inspect\n",
    "rotate_pct_table.to_csv('rotate_pct_table.csv')\n",
    "rotation_win_pct_table.to_csv('rotation_win_pct_table.csv')"
   ]
  },
  {
   "cell_type": "code",
   "execution_count": 5,
   "id": "c20690a3",
   "metadata": {},
   "outputs": [],
   "source": [
    "# Concatenate the two tables side by side\n",
    "rotation_stats = pd.concat(\n",
    "    [rotate_pct_table, rotation_win_pct_table],\n",
    "    axis=1\n",
    ").reset_index()\n",
    "\n",
    "# Save the rotation stats to a CSV file\n",
    "rotation_stats.to_csv('rotation_stats.csv', index=False)"
   ]
  },
  {
   "cell_type": "markdown",
   "id": "df82e280",
   "metadata": {},
   "source": [
    "## 3. Break attempts and successes"
   ]
  },
  {
   "cell_type": "code",
   "execution_count": 6,
   "id": "43b5ce74",
   "metadata": {
    "execution": {
     "iopub.execute_input": "2025-08-04T20:17:43.267139Z",
     "iopub.status.busy": "2025-08-04T20:17:43.266727Z",
     "iopub.status.idle": "2025-08-04T20:17:43.288527Z",
     "shell.execute_reply": "2025-08-04T20:17:43.287793Z"
    }
   },
   "outputs": [
    {
     "data": {
      "text/html": [
       "<div>\n",
       "<style scoped>\n",
       "    .dataframe tbody tr th:only-of-type {\n",
       "        vertical-align: middle;\n",
       "    }\n",
       "\n",
       "    .dataframe tbody tr th {\n",
       "        vertical-align: top;\n",
       "    }\n",
       "\n",
       "    .dataframe thead th {\n",
       "        text-align: right;\n",
       "    }\n",
       "</style>\n",
       "<table border=\"1\" class=\"dataframe\">\n",
       "  <thead>\n",
       "    <tr style=\"text-align: right;\">\n",
       "      <th></th>\n",
       "      <th>BreakAttempts</th>\n",
       "      <th>BreakSuccesses</th>\n",
       "    </tr>\n",
       "    <tr>\n",
       "      <th>Map</th>\n",
       "      <th></th>\n",
       "      <th></th>\n",
       "    </tr>\n",
       "  </thead>\n",
       "  <tbody>\n",
       "    <tr>\n",
       "      <th>Combine</th>\n",
       "      <td>5</td>\n",
       "      <td>0</td>\n",
       "    </tr>\n",
       "    <tr>\n",
       "      <th>Hacienda</th>\n",
       "      <td>5</td>\n",
       "      <td>1</td>\n",
       "    </tr>\n",
       "    <tr>\n",
       "      <th>Slums</th>\n",
       "      <td>8</td>\n",
       "      <td>4</td>\n",
       "    </tr>\n",
       "  </tbody>\n",
       "</table>\n",
       "</div>"
      ],
      "text/plain": [
       "          BreakAttempts  BreakSuccesses\n",
       "Map                                    \n",
       "Combine               5               0\n",
       "Hacienda              5               1\n",
       "Slums                 8               4"
      ]
     },
     "execution_count": 6,
     "metadata": {},
     "output_type": "execute_result"
    }
   ],
   "source": [
    "\n",
    "# Break attempts where DVS is BreakTeam\n",
    "df['DVS_BreakAttempt'] = df['BreakTeam'] == 'DVS'\n",
    "df['DVS_BreakSuccess'] = (df['DVS_BreakAttempt']) & (df['BreakSuccess'] == 'Yes')\n",
    "\n",
    "break_summary_map = df.groupby('Map').agg(\n",
    "    BreakAttempts=('DVS_BreakAttempt','sum'),\n",
    "    BreakSuccesses=('DVS_BreakSuccess','sum')\n",
    ")\n",
    "break_summary_map\n"
   ]
  },
  {
   "cell_type": "code",
   "execution_count": 17,
   "id": "0c302036",
   "metadata": {
    "execution": {
     "iopub.execute_input": "2025-08-04T20:17:43.293196Z",
     "iopub.status.busy": "2025-08-04T20:17:43.292752Z",
     "iopub.status.idle": "2025-08-04T20:17:43.318814Z",
     "shell.execute_reply": "2025-08-04T20:17:43.317276Z"
    }
   },
   "outputs": [],
   "source": [
    "# 1) Compute totals & percentages per Map/Hill\n",
    "break_stats = (\n",
    "    df\n",
    "    .groupby(['Map','Hill'])\n",
    "    .agg(\n",
    "        TotalRounds=('DVS_BreakAttempt','count'),\n",
    "        BreakAttempts=('DVS_BreakAttempt','sum'),\n",
    "        BreakSuccesses=('DVS_BreakSuccess','sum'),\n",
    "    )\n",
    ")\n",
    "\n",
    "# 2) Calculate percentages\n",
    "break_stats['BreakAttemptPct'] = break_stats['BreakAttempts'] / break_stats['TotalRounds'] * 100\n",
    "break_stats['BreakSuccessPct'] = np.where(\n",
    "    break_stats['BreakAttempts'] > 0,\n",
    "    break_stats['BreakSuccesses'] / break_stats['BreakAttempts'] * 100,\n",
    "    0\n",
    ")\n",
    "\n",
    "# 3) Pivot into two clean tables\n",
    "break_attempt_pct = (\n",
    "    break_stats['BreakAttemptPct']\n",
    "    .unstack(fill_value=0)\n",
    "    .round(1)\n",
    ")\n",
    "break_success_pct = (\n",
    "    break_stats['BreakSuccessPct']\n",
    "    .unstack(fill_value=0)\n",
    "    .round(1)\n",
    ")\n",
    "\n",
    "# 4) Rename columns for clarity\n",
    "break_attempt_pct.columns = [f\"{hill}_BreakAttemptPct\" for hill in break_attempt_pct.columns]\n",
    "break_success_pct.columns = [f\"{hill}_BreakSuccessPct\" for hill in break_success_pct.columns]\n",
    "\n",
    "# 5) Inspect results\n",
    "break_attempt_pct.to_csv('break_attempt_pct.csv')\n",
    "break_success_pct.to_csv('break_success_pct.csv')\n"
   ]
  },
  {
   "cell_type": "code",
   "execution_count": 9,
   "id": "bd6ab662",
   "metadata": {},
   "outputs": [],
   "source": [
    "# Concatenate the two tables side by side\n",
    "break_stats_table = pd.concat(\n",
    "    [break_attempt_pct, break_success_pct],\n",
    "    axis=1\n",
    ").reset_index()\n",
    "\n",
    "break_stats_table.to_csv('break_stats.csv', index=False)"
   ]
  },
  {
   "cell_type": "markdown",
   "id": "e491bf30",
   "metadata": {},
   "source": [
    "## 4. Average hold durations"
   ]
  },
  {
   "cell_type": "code",
   "execution_count": 10,
   "id": "d9c827a1",
   "metadata": {
    "execution": {
     "iopub.execute_input": "2025-08-04T20:17:43.324521Z",
     "iopub.status.busy": "2025-08-04T20:17:43.323595Z",
     "iopub.status.idle": "2025-08-04T20:17:43.337538Z",
     "shell.execute_reply": "2025-08-04T20:17:43.336119Z"
    }
   },
   "outputs": [
    {
     "data": {
      "text/plain": [
       "Map\n",
       "Combine     10.000000\n",
       "Hacienda    23.000000\n",
       "Slums       16.555556\n",
       "Name: HoldDuration, dtype: float64"
      ]
     },
     "execution_count": 10,
     "metadata": {},
     "output_type": "execute_result"
    }
   ],
   "source": [
    "# First hold avg when DVS rotates first\n",
    "avg_first_hold_map = (\n",
    "    df[df['DVS_RotatesFirst']]\n",
    "    .groupby('Map')['HoldDuration']\n",
    "    .mean()\n",
    ")\n",
    "avg_first_hold_map\n"
   ]
  },
  {
   "cell_type": "code",
   "execution_count": 11,
   "id": "ea0ea549",
   "metadata": {
    "execution": {
     "iopub.execute_input": "2025-08-04T20:17:43.343035Z",
     "iopub.status.busy": "2025-08-04T20:17:43.342204Z",
     "iopub.status.idle": "2025-08-04T20:17:43.359177Z",
     "shell.execute_reply": "2025-08-04T20:17:43.358270Z"
    }
   },
   "outputs": [],
   "source": [
    "avg_first_hold_hill = (\n",
    "    df[df['DVS_RotatesFirst']]\n",
    "    .groupby(['Map','Hill'])['HoldDuration']\n",
    "    .mean()\n",
    "    .round(1)\n",
    "    .reset_index()\n",
    "    .pivot(index='Map', columns='Hill', values='HoldDuration')\n",
    "    .rename_axis(None, axis=1)\n",
    "    .reset_index()\n",
    "    .fillna(0.0)  # Fill NaN with 0.0 for clarity\n",
    ")\n",
    "avg_first_hold_hill.to_csv('avg_first_hold_hill.csv', index=False)\n"
   ]
  },
  {
   "cell_type": "code",
   "execution_count": 12,
   "id": "ed09123b",
   "metadata": {
    "execution": {
     "iopub.execute_input": "2025-08-04T20:17:43.369677Z",
     "iopub.status.busy": "2025-08-04T20:17:43.369039Z",
     "iopub.status.idle": "2025-08-04T20:17:43.379467Z",
     "shell.execute_reply": "2025-08-04T20:17:43.378297Z"
    }
   },
   "outputs": [
    {
     "data": {
      "text/plain": [
       "Map\n",
       "Combine      2.800\n",
       "Hacienda     7.200\n",
       "Slums       17.625\n",
       "Name: BreakDuration, dtype: float64"
      ]
     },
     "execution_count": 12,
     "metadata": {},
     "output_type": "execute_result"
    }
   ],
   "source": [
    "\n",
    "# Average break hold duration where DVS is BreakTeam\n",
    "avg_break_hold_map = (\n",
    "    df[df['DVS_BreakAttempt']]\n",
    "    .groupby('Map')['BreakDuration']\n",
    "    .mean()\n",
    ")\n",
    "avg_break_hold_map\n"
   ]
  },
  {
   "cell_type": "code",
   "execution_count": 13,
   "id": "ffdc6588",
   "metadata": {
    "execution": {
     "iopub.execute_input": "2025-08-04T20:17:43.384717Z",
     "iopub.status.busy": "2025-08-04T20:17:43.383850Z",
     "iopub.status.idle": "2025-08-04T20:17:43.402636Z",
     "shell.execute_reply": "2025-08-04T20:17:43.401379Z"
    }
   },
   "outputs": [],
   "source": [
    "avg_break_hold_hill = (\n",
    "    df[df['DVS_BreakAttempt']]\n",
    "    .groupby(['Map','Hill'])['BreakDuration']\n",
    "    .mean()\n",
    "    .round(1)\n",
    "    .reset_index()\n",
    "    .pivot(index='Map', columns='Hill', values='BreakDuration')\n",
    "    .rename_axis(None, axis=1)\n",
    "    .reset_index()\n",
    "    .fillna(0.0)  # Fill NaN with 0.0 for clarity\n",
    ")\n",
    "\n",
    "avg_break_hold_hill.to_csv('avg_break_hold_hill.csv', index=False)"
   ]
  },
  {
   "cell_type": "markdown",
   "id": "a0bef070",
   "metadata": {},
   "source": [
    "## 5. Scrap time collection"
   ]
  },
  {
   "cell_type": "code",
   "execution_count": 14,
   "id": "eb0a6a3b",
   "metadata": {
    "execution": {
     "iopub.execute_input": "2025-08-04T20:17:43.407509Z",
     "iopub.status.busy": "2025-08-04T20:17:43.407171Z",
     "iopub.status.idle": "2025-08-04T20:17:43.421059Z",
     "shell.execute_reply": "2025-08-04T20:17:43.420111Z"
    }
   },
   "outputs": [
    {
     "data": {
      "text/html": [
       "<div>\n",
       "<style scoped>\n",
       "    .dataframe tbody tr th:only-of-type {\n",
       "        vertical-align: middle;\n",
       "    }\n",
       "\n",
       "    .dataframe tbody tr th {\n",
       "        vertical-align: top;\n",
       "    }\n",
       "\n",
       "    .dataframe thead th {\n",
       "        text-align: right;\n",
       "    }\n",
       "</style>\n",
       "<table border=\"1\" class=\"dataframe\">\n",
       "  <thead>\n",
       "    <tr style=\"text-align: right;\">\n",
       "      <th></th>\n",
       "      <th>TotalHills</th>\n",
       "      <th>HillsWithMajorityScrap</th>\n",
       "      <th>HillsWithSplitScrap</th>\n",
       "    </tr>\n",
       "  </thead>\n",
       "  <tbody>\n",
       "    <tr>\n",
       "      <th>0</th>\n",
       "      <td>40</td>\n",
       "      <td>17</td>\n",
       "      <td>4</td>\n",
       "    </tr>\n",
       "  </tbody>\n",
       "</table>\n",
       "</div>"
      ],
      "text/plain": [
       "   TotalHills  HillsWithMajorityScrap  HillsWithSplitScrap\n",
       "0          40                      17                    4"
      ]
     },
     "execution_count": 14,
     "metadata": {},
     "output_type": "execute_result"
    }
   ],
   "source": [
    "\n",
    "df['DVS_MajorityScrap'] = df['ScrapTeam'] == 'DVS'\n",
    "df['ScrapSplit'] = df['ScrapTeam'] == 'Split'\n",
    "\n",
    "scrap_summary = pd.DataFrame({\n",
    "    'TotalHills': [len(df)],\n",
    "    'HillsWithMajorityScrap': [df['DVS_MajorityScrap'].sum()],\n",
    "    'HillsWithSplitScrap': [df['ScrapSplit'].sum()]\n",
    "})\n",
    "\n",
    "scrap_summary"
   ]
  },
  {
   "cell_type": "code",
   "execution_count": 18,
   "id": "3f6708d4",
   "metadata": {},
   "outputs": [],
   "source": [
    "# 2) Scrap time per hill per map (total seconds DVS collects)\n",
    "scrap_per_hill = (\n",
    "    df[df['DVS_MajorityScrap']]                        # only rows where DVS got majority scrap\n",
    "      .groupby(['Map','Hill'])['ScrapTime']\n",
    "      .sum()                                           # sum scrap seconds\n",
    "      .round(1)                                        # optional rounding\n",
    "      .unstack(fill_value=0)                          # pivot hills as columns\n",
    "      .reset_index()                                  # make Map a column again\n",
    ")\n",
    "\n",
    "scrap_per_hill.to_csv('scrap_per_hill.csv', index=False)"
   ]
  },
  {
   "cell_type": "code",
   "execution_count": null,
   "id": "e22599dc",
   "metadata": {},
   "outputs": [],
   "source": []
  }
 ],
 "metadata": {
  "kernelspec": {
   "display_name": "base",
   "language": "python",
   "name": "python3"
  },
  "language_info": {
   "codemirror_mode": {
    "name": "ipython",
    "version": 3
   },
   "file_extension": ".py",
   "mimetype": "text/x-python",
   "name": "python",
   "nbconvert_exporter": "python",
   "pygments_lexer": "ipython3",
   "version": "3.11.5"
  }
 },
 "nbformat": 4,
 "nbformat_minor": 5
}
